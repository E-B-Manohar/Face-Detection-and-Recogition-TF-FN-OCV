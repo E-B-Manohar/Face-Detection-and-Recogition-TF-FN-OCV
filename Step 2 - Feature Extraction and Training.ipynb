{
 "cells": [
  {
   "cell_type": "markdown",
   "metadata": {},
   "source": [
    "# Feature Extraction and Training Model\n",
    "\n",
    "- Feature Extraction "
   ]
  },
  {
   "cell_type": "code",
   "execution_count": 1,
   "metadata": {},
   "outputs": [
    {
     "name": "stderr",
     "output_type": "stream",
     "text": [
      "C:\\Anaconda3\\lib\\site-packages\\h5py\\__init__.py:36: FutureWarning: Conversion of the second argument of issubdtype from `float` to `np.floating` is deprecated. In future, it will be treated as `np.float64 == np.dtype(float).type`.\n",
      "  from ._conv import register_converters as _register_converters\n"
     ]
    },
    {
     "name": "stdout",
     "output_type": "stream",
     "text": [
      "Training Start\n",
      "Classes: 6\n",
      "Images: 142\n",
      "Model filename: ./model/20191012-185253.pb\n",
      "Extracting features of images for model\n",
      "Training Started\n",
      "Saved classifier model to file \"./class/classifier.pkl\"\n"
     ]
    }
   ],
   "source": [
    "from __future__ import absolute_import\n",
    "from __future__ import division\n",
    "from __future__ import print_function\n",
    "#import sys\n",
    "from library.classifier import training\n",
    "\n",
    "datadir = './face_dataset'\n",
    "modeldir = './model/20191012-185253.pb'\n",
    "classifier_filename = './class/classifier.pkl'\n",
    "print (\"Training Start\")\n",
    "obj=training(datadir,modeldir,classifier_filename)\n",
    "get_file=obj.main_train()\n",
    "print('Saved classifier model to file \"%s\"' % get_file)\n",
    "#sys.exit(\"All Done\")"
   ]
  },
  {
   "cell_type": "code",
   "execution_count": null,
   "metadata": {},
   "outputs": [],
   "source": []
  }
 ],
 "metadata": {
  "kernelspec": {
   "display_name": "Python 3",
   "language": "python",
   "name": "python3"
  },
  "language_info": {
   "codemirror_mode": {
    "name": "ipython",
    "version": 3
   },
   "file_extension": ".py",
   "mimetype": "text/x-python",
   "name": "python",
   "nbconvert_exporter": "python",
   "pygments_lexer": "ipython3",
   "version": "3.6.5"
  }
 },
 "nbformat": 4,
 "nbformat_minor": 2
}
