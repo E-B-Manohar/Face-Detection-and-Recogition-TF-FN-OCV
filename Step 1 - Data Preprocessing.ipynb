{
 "cells": [
  {
   "cell_type": "markdown",
   "metadata": {},
   "source": [
    "# Data Preprocessing\n",
    "\n",
    "- Faces are cropped from the images in the training dataset and saved in an preprocessed folder\n",
    "- This preprocessed folder is now source for traing the model"
   ]
  },
  {
   "cell_type": "code",
   "execution_count": 1,
   "metadata": {},
   "outputs": [
    {
     "name": "stderr",
     "output_type": "stream",
     "text": [
      "C:\\Anaconda3\\lib\\site-packages\\h5py\\__init__.py:36: FutureWarning: Conversion of the second argument of issubdtype from `float` to `np.floating` is deprecated. In future, it will be treated as `np.float64 == np.dtype(float).type`.\n",
      "  from ._conv import register_converters as _register_converters\n"
     ]
    }
   ],
   "source": [
    "from library.preprocess import preprocesses   ## User defined function to crop the faces from the images."
   ]
  },
  {
   "cell_type": "code",
   "execution_count": 2,
   "metadata": {},
   "outputs": [],
   "source": [
    "input_data_directory  = './raw_images'   ## Directory of the raw images. These images must have high variance.\n",
    "output_data_directory = './face_dataset' ## Directory to save the faces from the images"
   ]
  },
  {
   "cell_type": "code",
   "execution_count": 3,
   "metadata": {},
   "outputs": [],
   "source": [
    "## Creating the object by specifying source directory and Output directory which is \"Face Dataset\" to where the data is stored\n",
    "filter_obj = preprocesses(input_data_directory, output_data_directory) "
   ]
  },
  {
   "cell_type": "code",
   "execution_count": 4,
   "metadata": {
    "scrolled": false
   },
   "outputs": [
    {
     "name": "stdout",
     "output_type": "stream",
     "text": [
      "WARNING:tensorflow:From D:\\Data Science\\To My Git\\My\\Face Recog\\Face Detection and Recogition TF FN OCV\\library\\detect_face.py:210: calling reduce_max (from tensorflow.python.ops.math_ops) with keep_dims is deprecated and will be removed in a future version.\n",
      "Instructions for updating:\n",
      "keep_dims is deprecated, use keepdims instead\n",
      "WARNING:tensorflow:From D:\\Data Science\\To My Git\\My\\Face Recog\\Face Detection and Recogition TF FN OCV\\library\\detect_face.py:212: calling reduce_sum (from tensorflow.python.ops.math_ops) with keep_dims is deprecated and will be removed in a future version.\n",
      "Instructions for updating:\n",
      "keep_dims is deprecated, use keepdims instead\n",
      "Image: ./raw_images\\Bill_Hader\\00001.jpg\n",
      "Image: ./raw_images\\Bill_Hader\\00002.jpg\n",
      "Image: ./raw_images\\Bill_Hader\\00003.jpg\n",
      "Image: ./raw_images\\Bill_Hader\\00004.jpg\n",
      "Image: ./raw_images\\Bill_Hader\\00005.jpg\n",
      "Image: ./raw_images\\Bill_Hader\\00006.png\n",
      "Image: ./raw_images\\Bill_Hader\\00007.jpg\n",
      "Image: ./raw_images\\Bill_Hader\\00009.jpg\n",
      "Image: ./raw_images\\Bill_Hader\\00010.jpg\n",
      "Image: ./raw_images\\Bill_Hader\\00011.jpg\n",
      "Image: ./raw_images\\Bill_Hader\\00012.jpeg\n",
      "Image: ./raw_images\\Bill_Hader\\00013.jpg\n",
      "Image: ./raw_images\\Bill_Hader\\00014.jpg\n",
      "Image: ./raw_images\\Bill_Hader\\00015.jpg\n",
      "Image: ./raw_images\\Bill_Hader\\00016.jpg\n",
      "Image: ./raw_images\\Bill_Hader\\00017.jpg\n",
      "Image: ./raw_images\\Bill_Hader\\00018.jpg\n",
      "Image: ./raw_images\\Bill_Hader\\00019.jpg\n",
      "Image: ./raw_images\\Bill_Hader\\00020.jpg\n",
      "Image: ./raw_images\\Bill_Hader\\00021.jpeg\n",
      "Image: ./raw_images\\Bill_Hader\\00022.jpg\n",
      "Image: ./raw_images\\Bill_Hader\\00023.png\n",
      "Image: ./raw_images\\Bill_Hader\\00024.jpg\n",
      "Image: ./raw_images\\Bill_Hader\\00025.jpg\n",
      "Image: ./raw_images\\Kate_McKinnon\\00001.jpg\n",
      "Image: ./raw_images\\Kate_McKinnon\\000010.jpg\n",
      "Image: ./raw_images\\Kate_McKinnon\\00002.jpg\n",
      "Image: ./raw_images\\Kate_McKinnon\\00003.jpg\n",
      "Image: ./raw_images\\Kate_McKinnon\\00004.jpg\n",
      "Image: ./raw_images\\Kate_McKinnon\\00005.jpg\n",
      "Image: ./raw_images\\Kate_McKinnon\\00006.jpg\n",
      "Image: ./raw_images\\Kate_McKinnon\\00007.jpg\n",
      "Image: ./raw_images\\Kate_McKinnon\\00011.png\n",
      "Image: ./raw_images\\Kate_McKinnon\\00012.jpg\n",
      "Image: ./raw_images\\Kate_McKinnon\\00013.jpg\n",
      "Image: ./raw_images\\Kate_McKinnon\\00014.jpg\n",
      "Image: ./raw_images\\Kate_McKinnon\\00015.jpg\n",
      "Image: ./raw_images\\Kate_McKinnon\\00016.jpg\n",
      "Image: ./raw_images\\Kate_McKinnon\\00017.jpg\n",
      "Image: ./raw_images\\Kate_McKinnon\\00018.jpg\n",
      "Image: ./raw_images\\Kate_McKinnon\\00019.jpg\n",
      "Image: ./raw_images\\Kate_McKinnon\\00020.jpg\n",
      "Image: ./raw_images\\Kate_McKinnon\\00021.jpg\n",
      "Image: ./raw_images\\Kate_McKinnon\\00022.jpg\n",
      "Image: ./raw_images\\Kate_McKinnon\\00023.png\n",
      "Image: ./raw_images\\Kate_McKinnon\\00024.jpg\n",
      "Image: ./raw_images\\Kate_McKinnon\\00025.jpg\n",
      "Image: ./raw_images\\bobby_moynihan\\00001.jpg\n",
      "Image: ./raw_images\\bobby_moynihan\\00002.jpg\n",
      "Image: ./raw_images\\bobby_moynihan\\00003.jpg\n",
      "Image: ./raw_images\\bobby_moynihan\\00004.jpg\n",
      "Image: ./raw_images\\bobby_moynihan\\00005.jpg\n",
      "Image: ./raw_images\\bobby_moynihan\\00006.png\n",
      "Image: ./raw_images\\bobby_moynihan\\00007.jpg\n",
      "Image: ./raw_images\\bobby_moynihan\\00009.jpg\n",
      "Image: ./raw_images\\bobby_moynihan\\00010.jpg\n",
      "Image: ./raw_images\\bobby_moynihan\\00011.jpg\n",
      "Image: ./raw_images\\bobby_moynihan\\00012.jpg\n",
      "Image: ./raw_images\\bobby_moynihan\\00013.jpg\n",
      "Image: ./raw_images\\bobby_moynihan\\00014.jpg\n",
      "Image: ./raw_images\\bobby_moynihan\\00015.jpg\n",
      "Image: ./raw_images\\bobby_moynihan\\00016.jpg\n",
      "Image: ./raw_images\\bobby_moynihan\\00017.jpg\n",
      "Image: ./raw_images\\bobby_moynihan\\00018.jpg\n",
      "Image: ./raw_images\\bobby_moynihan\\00019.jpg\n",
      "Image: ./raw_images\\bobby_moynihan\\0002.jpg\n",
      "Image: ./raw_images\\bobby_moynihan\\00020.jpeg\n",
      "Image: ./raw_images\\bobby_moynihan\\00021.jpg\n",
      "Image: ./raw_images\\bobby_moynihan\\00022.jpg\n",
      "Image: ./raw_images\\bobby_moynihan\\00023.jpg\n",
      "Image: ./raw_images\\bobby_moynihan\\00025.jpg\n",
      "Image: ./raw_images\\jason_sudeikis\\00001.jpg\n",
      "Image: ./raw_images\\jason_sudeikis\\00002.jpg\n",
      "Image: ./raw_images\\jason_sudeikis\\00003.jpg\n",
      "Image: ./raw_images\\jason_sudeikis\\00004.jpg\n",
      "Image: ./raw_images\\jason_sudeikis\\00005.jpg\n",
      "Image: ./raw_images\\jason_sudeikis\\00007.jpg\n",
      "Image: ./raw_images\\jason_sudeikis\\00008.jpg\n",
      "Image: ./raw_images\\jason_sudeikis\\00009.jpg\n",
      "Image: ./raw_images\\jason_sudeikis\\00010.jpg\n",
      "Image: ./raw_images\\jason_sudeikis\\00011.jpg\n",
      "Image: ./raw_images\\jason_sudeikis\\00012.jpg\n",
      "Image: ./raw_images\\jason_sudeikis\\00013.jpg\n",
      "Image: ./raw_images\\jason_sudeikis\\00014.jpg\n",
      "Image: ./raw_images\\jason_sudeikis\\00015.png\n",
      "Image: ./raw_images\\jason_sudeikis\\00017.jpg\n",
      "Image: ./raw_images\\jason_sudeikis\\00018.jpg\n",
      "Image: ./raw_images\\jason_sudeikis\\00019.jpg\n",
      "Image: ./raw_images\\jason_sudeikis\\00020.jpg\n",
      "Image: ./raw_images\\jason_sudeikis\\00021.jpg\n",
      "Image: ./raw_images\\jason_sudeikis\\00022.jpg\n",
      "Image: ./raw_images\\jason_sudeikis\\00023.jpg\n",
      "Image: ./raw_images\\jason_sudeikis\\00024.jpg\n",
      "Image: ./raw_images\\jason_sudeikis\\00025.jpg\n",
      "Image: ./raw_images\\kenan_thompson\\00001.jpg\n",
      "Image: ./raw_images\\kenan_thompson\\00002.jpg\n",
      "Image: ./raw_images\\kenan_thompson\\00003.jpg\n",
      "Image: ./raw_images\\kenan_thompson\\00004.png\n",
      "Image: ./raw_images\\kenan_thompson\\00005.jpg\n",
      "Image: ./raw_images\\kenan_thompson\\00006.jpg\n",
      "Image: ./raw_images\\kenan_thompson\\00007.jpg\n",
      "Image: ./raw_images\\kenan_thompson\\00008.jpg\n",
      "Image: ./raw_images\\kenan_thompson\\00009.jpg\n",
      "Image: ./raw_images\\kenan_thompson\\0001.jpg\n",
      "Image: ./raw_images\\kenan_thompson\\00010.jpg\n",
      "Image: ./raw_images\\kenan_thompson\\00011.png\n",
      "Image: ./raw_images\\kenan_thompson\\00012.jpeg\n",
      "Image: ./raw_images\\kenan_thompson\\00013.jpg\n",
      "Image: ./raw_images\\kenan_thompson\\00014.jpg\n",
      "Image: ./raw_images\\kenan_thompson\\00015.jpg\n",
      "Image: ./raw_images\\kenan_thompson\\00016.jpg\n",
      "Image: ./raw_images\\kenan_thompson\\00017.jpg\n",
      "Image: ./raw_images\\kenan_thompson\\00018.jpg\n",
      "Image: ./raw_images\\kenan_thompson\\00020.jpg\n",
      "Image: ./raw_images\\kenan_thompson\\00021.jpg\n",
      "Image: ./raw_images\\kenan_thompson\\00022.jpg\n",
      "Image: ./raw_images\\kenan_thompson\\00023.jpg\n",
      "Image: ./raw_images\\kenan_thompson\\00024.jpg\n",
      "Image: ./raw_images\\kenan_thompson\\00025.jpg\n",
      "Image: ./raw_images\\kristen_wiig\\0000.jpg\n",
      "Image: ./raw_images\\kristen_wiig\\00001.gif\n",
      "Image: ./raw_images\\kristen_wiig\\00002.jpg\n",
      "Image: ./raw_images\\kristen_wiig\\00003.jpg\n",
      "Image: ./raw_images\\kristen_wiig\\00004.jpg\n",
      "Image: ./raw_images\\kristen_wiig\\00005.jpg\n",
      "Image: ./raw_images\\kristen_wiig\\00006.jpg\n",
      "Image: ./raw_images\\kristen_wiig\\00007.jpg\n",
      "Image: ./raw_images\\kristen_wiig\\00008.jpg\n",
      "Image: ./raw_images\\kristen_wiig\\00009.jpg\n",
      "Image: ./raw_images\\kristen_wiig\\00010.jpg\n",
      "Image: ./raw_images\\kristen_wiig\\00011.png\n",
      "Image: ./raw_images\\kristen_wiig\\00012.jpg\n",
      "Image: ./raw_images\\kristen_wiig\\00013.jpg\n",
      "Image: ./raw_images\\kristen_wiig\\00015.jpg\n",
      "Image: ./raw_images\\kristen_wiig\\00016.jpg\n",
      "Image: ./raw_images\\kristen_wiig\\00017.jpg\n",
      "Image: ./raw_images\\kristen_wiig\\00018.jpg\n",
      "Image: ./raw_images\\kristen_wiig\\00019.jpg\n",
      "Image: ./raw_images\\kristen_wiig\\00020.jpg\n",
      "Image: ./raw_images\\kristen_wiig\\00021.jpg\n",
      "Image: ./raw_images\\kristen_wiig\\00022.jpg\n",
      "Image: ./raw_images\\kristen_wiig\\00023.gif\n"
     ]
    }
   ],
   "source": [
    "## Starting to collect the detected faces from images within the input directory 'raw_images' and \n",
    "### saving the detected faces in the 'face_dataset'\n",
    "no_of_total_images, _ = filter_obj.collect_data()"
   ]
  },
  {
   "cell_type": "code",
   "execution_count": 6,
   "metadata": {
    "scrolled": false
   },
   "outputs": [
    {
     "name": "stdout",
     "output_type": "stream",
     "text": [
      "Total raw images found from the input directory= 142\n"
     ]
    }
   ],
   "source": [
    "print('Total raw images found from the input directory= %d' % no_of_total_images)"
   ]
  },
  {
   "cell_type": "code",
   "execution_count": null,
   "metadata": {},
   "outputs": [],
   "source": []
  }
 ],
 "metadata": {
  "kernelspec": {
   "display_name": "Python 3",
   "language": "python",
   "name": "python3"
  },
  "language_info": {
   "codemirror_mode": {
    "name": "ipython",
    "version": 3
   },
   "file_extension": ".py",
   "mimetype": "text/x-python",
   "name": "python",
   "nbconvert_exporter": "python",
   "pygments_lexer": "ipython3",
   "version": "3.6.5"
  }
 },
 "nbformat": 4,
 "nbformat_minor": 2
}
